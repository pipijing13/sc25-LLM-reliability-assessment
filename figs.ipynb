{
 "cells": [
  {
   "cell_type": "code",
   "execution_count": 2,
   "id": "dd5893e4",
   "metadata": {},
   "outputs": [],
   "source": [
    "import os\n",
    "import time\n",
    "import pandas as pd\n",
    "import numpy as np\n",
    "import matplotlib.pyplot as plt\n",
    "import seaborn as sns\n",
    "import matplotlib as mpl\n",
    "import textwrap"
   ]
  },
  {
   "cell_type": "markdown",
   "id": "cdf0d37f",
   "metadata": {
    "tags": []
   },
   "source": [
    "## multiple choice"
   ]
  },
  {
   "cell_type": "code",
   "execution_count": 26,
   "id": "21e639d5-07b6-4723-bcd3-efb571b0e526",
   "metadata": {
    "tags": []
   },
   "outputs": [
    {
     "data": {
      "image/png": "[encoded data removed]",
      "text/plain": [
       "<Figure size 504x72 with 1 Axes>"
      ]
     },
     "metadata": {
      "needs_background": "light"
     },
     "output_type": "display_data"
    }
   ],
   "source": [
    "#figure3 a\n",
    "data = pd.read_excel('data/multiple-choice.xlsx')\n",
    "data = data.iloc[:,1:]\n",
    "data = data.rename(columns={'Unnamed: 1': 'Models'})\n",
    "\n",
    "plt.rcParams.update({'font.size': 7})\n",
    "plt.figure(figsize=(7,1))\n",
    "\n",
    "total_bars = len(data)\n",
    "bar_width = 0.1\n",
    "positions = []\n",
    "current_pos = 0\n",
    "\n",
    "for i in range(len(data)):\n",
    "    for j in range(3):\n",
    "        positions.append(current_pos + j * bar_width)\n",
    "    \n",
    "    if i < len(data) - 1:  \n",
    "        if i == 4 or i ==9:  \n",
    "            current_pos += 5 * bar_width\n",
    "        else: \n",
    "            current_pos += 4 * bar_width\n",
    "positions = np.array(positions).reshape(len(data), 3)\n",
    "# Create bars with different colors\n",
    "# plt.bar(r1, data['w/o protection'], width=bar_width, label='FI', color='#474762', hatch = 'o*-+', zorder=5)  # Green\n",
    "# # plt.bar(r2, data['ranger'], width=bar_width, label='ranger', color='#E7BDB0', hatch = '|/-\\\\',zorder=5)  # Blue\n",
    "# plt.bar(r2, data['Ranger'], width=bar_width, label='ranger', color='#E7BDB0', hatch = '|/-\\\\',zorder=5)  # Blue\n",
    "# plt.bar(r3, data['MaxiMals'], width=bar_width, label='global cli', color='#953738', hatch = '*',zorder=5)  # Red\n",
    "# plt.bar(r4, data['Global Clipper'], width=bar_width, label='maximal', color='#345F71',  hatch='\\/', zorder=5)  # Yellow\n",
    "# plt.bar(r5, data['DRY'], width=bar_width, label='pretrain', color='#FFC474', hatch='/', zorder=5)  # Red\n",
    "# # plt.bar(r6, data['ours'], width=bar_width, label='ours', color='#8B522F', hatch='/\\\\/\\\\', zorder=5)  # Yellow\n",
    "# plt.bar(r6, data['ZERO-DRY'], width=bar_width, label='ours', color='#8B522F', hatch='o', zorder=5)  # Yellow\n",
    "# plt.bar(positions[:, 0], data['w/o protection'], width=bar_width, label='FI', edgecolor='#493131', linewidth=0.5, color='whitesmoke', hatch = '/', zorder=5)  # Green\n",
    "# plt.bar(positions[:, 1], data['Ranger'], width=bar_width, label='ranger', edgecolor='#493131', linewidth=0.5, color='darkorange', hatch = '\\\\\\\\', zorder=5)  # Blue\n",
    "# plt.bar(positions[:, 2], data['MaxiMals'], width=bar_width, label='global cli', edgecolor='#493131', linewidth=0.5, color='lightsalmon', hatch = '+',zorder=5)  # Red\n",
    "# plt.bar(positions[:, 3], data['Global Clipper'], width=bar_width, label='maximal', edgecolor='#493131', linewidth=0.5, color='peachpuff', hatch = 'x', zorder=5)  # Yellow\n",
    "# plt.bar(positions[:, 4], data['ZERO-DRY + offline profiling'], width=bar_width, label='pretrain', edgecolor='#493131', linewidth=0.5, color='#6cb3da', hatch = '.', zorder=5)  # Red\n",
    "# plt.bar(positions[:, 5], data['ZERO-DRY'],width=bar_width, label='ours', edgecolor='#493131', linewidth=0.5, color='#3b5da3', zorder=5)  # Yellow\n",
    "plt.bar(positions[:, 0], data['2bits-comp'], width=bar_width, label='2bits-weights', edgecolor='black', linewidth=0.5, color='darkseagreen',  zorder=5)  # Red\n",
    "plt.bar(positions[:, 1], data['1bit-comp'], width=bar_width, label='2bits-neurons', edgecolor='black', linewidth=0.5, color='cadetblue', zorder=5)  # Blue\n",
    "plt.bar(positions[:, 2], data['2bits-mem'], width=bar_width, label='1bit-neurons', edgecolor='black', linewidth=0.5, color='steelblue', zorder=5)\n",
    "#plt.bar(positions[:, 2], data['GSM8K'], width=bar_width, label='global cli', edgecolor='black', linewidth=0.5, color='#f5f8fa',  zorder=5)  # Red\n",
    "# 'whitesmoke', 'darkorange', 'lightsalmon', 'peachpuff', '#6cb3da', '#3b5da3'\n",
    "# labels = ['squad_v2', 'xtreme', 'gsm8k']\n",
    "# positions = [2, 5, 8] \n",
    "# plt.xticks(positions, labels)\n",
    "group_centers = positions.mean(axis=1)\n",
    "plt.subplots_adjust(left=0.05, right=0.9)\n",
    "# plt.legend(data.columns[1:], loc='upper right', fontsize='small', ncol=2)\n",
    "# plt.xlabel('Models')\n",
    "plt.ylabel('Accuracy')\n",
    "plt.yticks([0.8, 0.9, 1])\n",
    "plt.ylim(0.8, 1.1)\n",
    "plt.text(group_centers[2], 0.65, 'Llama3.1-8B', ha='center')  \n",
    "plt.text(group_centers[7], 0.65, 'Qwen2.5-7B', ha='center')\n",
    "plt.text(group_centers[12], 0.65, 'Falcon3-7B', ha='center')\n",
    "labels = data.Models.to_list()\n",
    "labels_wrapped = ['\\n'.join(label.split(' ')[:3]) for label in labels]\n",
    "plt.xticks(group_centers, labels_wrapped)\n",
    "# plt.xticks(range(len(data.Models)), data.Models, rotation=45, ha='center')\n",
    "# plt.legend(data.columns[1:], bbox_to_anchor=(1, 1), fontsize='small', ncol=1)\n",
    "plt.legend(data.columns[2:], loc='lower left', bbox_to_anchor=(0, 1.1, 0.6, 0.2), mode='expand', fontsize='small', ncol=4)\n",
    "shift = -0.245\n",
    "target_idx1 = group_centers[5]\n",
    "target_idx2 = group_centers[10]\n",
    "plt.gca().margins(x=0.01)\n",
    "plt.axvline(x=target_idx1 + shift, color='gray', linestyle='--', ymin=-0.7, ymax=1, clip_on=False)\n",
    "plt.axvline(x=target_idx2 + shift, color='gray', linestyle='--', ymin=-0.7, ymax=1, clip_on=False)\n",
    "plt.grid(True,axis='y')\n",
    "plt.savefig('figs/multiple-choice.pdf',dpi=100,bbox_inches = 'tight')\n",
    "\n",
    "plt.show()"
   ]
  },
  {
   "cell_type": "markdown",
   "id": "e46d0303",
   "metadata": {},
   "source": [
    "## gsm8k"
   ]
  },
  {
   "cell_type": "code",
   "execution_count": null,
   "id": "12642d55",
   "metadata": {},
   "outputs": [
    {
     "data": {
      "image/png": "[encoded data removed]",
      "text/plain": [
       "<Figure size 122.4x72 with 1 Axes>"
      ]
     },
     "metadata": {
      "needs_background": "light"
     },
     "output_type": "display_data"
    }
   ],
   "source": [
    "#figure3 b\n",
    "data = pd.read_excel('data/gsm8k.xlsx')\n",
    "\n",
    "plt.rcParams.update({'font.size': 7})\n",
    "plt.figure(figsize=(1.7,1))\n",
    "\n",
    "data.columns=['model', 'baseline', '1bit-comp', '2bits-comp', '2bits-mem']\n",
    "\n",
    "bar_width = 0.15\n",
    "num_bars = 3  \n",
    "group_width = bar_width * num_bars  \n",
    "group_centers = np.arange(len(data))\n",
    "\n",
    "# Calculate position of each bar to center them\n",
    "r1 = group_centers - group_width/2 + bar_width/2  # First bar\n",
    "r2 = [x + bar_width for x in r1]\n",
    "r3 = [x + bar_width for x in r2]\n",
    "\n",
    "\n",
    "\n",
    "plt.bar(r1, data['1bit-comp'], width=bar_width, edgecolor='black', linewidth=1, color='sienna', zorder=5)  # Yellow\n",
    "plt.bar(r2, data['2bits-comp'], width=bar_width, edgecolor='black', linewidth=1, color='lightsalmon', zorder=5)  # Yellow\n",
    "plt.bar(r3, data['2bits-mem'], width=bar_width, edgecolor='black', linewidth=1, color='peru', zorder=5)  # Yellow\n",
    "\n",
    "plt.xlabel('Models', labelpad=3)\n",
    "plt.xticks(range(len(data)), data.model, ha='center')\n",
    "plt.ylabel('Accuracy')\n",
    "plt.yticks([0.8, 0.9, 1])\n",
    "plt.ylim(0.8, 1.1)\n",
    "\n",
    "\n",
    "plt.legend(data.columns[2:], loc='lower left', bbox_to_anchor=(-0.2, 1.05, 1.35, 0.2), mode='expand', fontsize='small', ncol=2)\n",
    "plt.gca().margins(x=0.1)\n",
    "\n",
    "plt.grid(True,axis='y')\n",
    "plt.savefig('figs/gsm8k.pdf',dpi=100,bbox_inches = 'tight')\n",
    "\n",
    "plt.show()"
   ]
  },
  {
   "cell_type": "markdown",
   "id": "803ded00",
   "metadata": {},
   "source": [
    "## xmt"
   ]
  },
  {
   "cell_type": "code",
   "execution_count": null,
   "id": "15df4e20",
   "metadata": {
    "scrolled": true
   },
   "outputs": [
    {
     "data": {
      "image/png": "[encoded data removed]",
      "text/plain": [
       "<Figure size 158.4x72 with 1 Axes>"
      ]
     },
     "metadata": {
      "needs_background": "light"
     },
     "output_type": "display_data"
    }
   ],
   "source": [
    "#figure3 c up\n",
    "data = pd.read_excel('data/xmt-bleu.xlsx')\n",
    "\n",
    "plt.rcParams.update({'font.size': 7})\n",
    "plt.figure(figsize=(2.2,1))\n",
    "\n",
    "data.columns=['model', 'baseline', '1bit-comp', '2bits-comp', '2bits-mem']\n",
    "\n",
    "bar_width = 0.15\n",
    "num_bars = 3  \n",
    "group_width = bar_width * num_bars  \n",
    "group_centers = np.arange(len(data))\n",
    "\n",
    "# Calculate position of each bar to center them\n",
    "r1 = group_centers - group_width/2 + bar_width/2  # First bar\n",
    "r2 = [x + bar_width for x in r1]\n",
    "r3 = [x + bar_width for x in r2]\n",
    "\n",
    "\n",
    "\n",
    "plt.bar(r1, data['1bit-comp'], width=bar_width, edgecolor='black', linewidth=1, color='rosybrown', zorder=5)  # Yellow\n",
    "plt.bar(r2, data['2bits-comp'], width=bar_width, edgecolor='black', linewidth=1, color='lightcoral', zorder=5)  # Yellow\n",
    "plt.bar(r3, data['2bits-mem'], width=bar_width, edgecolor='black', linewidth=1, color='firebrick', zorder=5)  # Yellow\n",
    "\n",
    "plt.xlabel('Models', labelpad=3)\n",
    "plt.xticks(range(len(data)), data.model, ha='center')\n",
    "plt.ylabel('BLEU')\n",
    "plt.yticks([0.8, 0.9, 1])\n",
    "plt.ylim(0.8, 1.1)\n",
    "\n",
    "\n",
    "plt.legend(data.columns[2:], loc='lower left', bbox_to_anchor=(0, 1.05, 1, 0.2), mode='expand', fontsize='small', ncol=2)\n",
    "plt.gca().margins(x=0.05)\n",
    "\n",
    "plt.grid(True,axis='y')\n",
    "plt.savefig('figs/xmt-bleu.pdf',dpi=100,bbox_inches = 'tight')\n",
    "\n",
    "plt.show()"
   ]
  },
  {
   "cell_type": "code",
   "execution_count": null,
   "id": "f3da023d",
   "metadata": {},
   "outputs": [
    {
     "data": {
      "image/png": "[encoded data removed]",
      "text/plain": [
       "<Figure size 158.4x72 with 1 Axes>"
      ]
     },
     "metadata": {
      "needs_background": "light"
     },
     "output_type": "display_data"
    }
   ],
   "source": [
    "#figure3 c bottom\n",
    "data = pd.read_excel('data/xmt-chrf.xlsx')\n",
    "\n",
    "plt.rcParams.update({'font.size': 7})\n",
    "plt.figure(figsize=(2.2,1))\n",
    "\n",
    "data.columns=['model', 'baseline', '1bit-comp', '2bits-comp', '2bits-mem']\n",
    "\n",
    "bar_width = 0.15\n",
    "num_bars = 3  \n",
    "group_width = bar_width * num_bars  \n",
    "group_centers = np.arange(len(data))\n",
    "\n",
    "# Calculate position of each bar to center them\n",
    "r1 = group_centers - group_width/2 + bar_width/2  # First bar\n",
    "r2 = [x + bar_width for x in r1]\n",
    "r3 = [x + bar_width for x in r2]\n",
    "\n",
    "\n",
    "\n",
    "plt.bar(r1, data['1bit-comp'], width=bar_width, edgecolor='black', linewidth=1, color='rosybrown', zorder=5)  # Yellow\n",
    "plt.bar(r2, data['2bits-comp'], width=bar_width, edgecolor='black', linewidth=1, color='lightcoral', zorder=5)  # Yellow\n",
    "plt.bar(r3, data['2bits-mem'], width=bar_width, edgecolor='black', linewidth=1, color='firebrick', zorder=5)  # Yellow\n",
    "\n",
    "plt.xlabel('Models', labelpad=3)\n",
    "plt.xticks(range(len(data)), data.model, ha='center')\n",
    "plt.ylabel('chrF++')\n",
    "plt.yticks([0.8, 0.9, 1])\n",
    "plt.ylim(0.8, 1.1)\n",
    "\n",
    "\n",
    "#plt.legend(data.columns[2:], loc='lower left', bbox_to_anchor=(-0.1, 1.05, 1.2, 0.2), mode='expand', fontsize='small', ncol=2)\n",
    "plt.gca().margins(x=0.05)\n",
    "\n",
    "plt.grid(True,axis='y')\n",
    "plt.savefig('figs/xmt-chrf.pdf',dpi=100,bbox_inches = 'tight')\n",
    "\n",
    "plt.show()"
   ]
  },
  {
   "cell_type": "markdown",
   "id": "81d30e73",
   "metadata": {},
   "source": [
    "## xlsum"
   ]
  },
  {
   "cell_type": "code",
   "execution_count": null,
   "id": "4e5483d6",
   "metadata": {},
   "outputs": [
    {
     "data": {
      "image/png": "[encoded data removed]",
      "text/plain": [
       "<Figure size 158.4x72 with 1 Axes>"
      ]
     },
     "metadata": {
      "needs_background": "light"
     },
     "output_type": "display_data"
    }
   ],
   "source": [
    "#figure3 d up\n",
    "data = pd.read_excel('data/xlsum-r1.xlsx')\n",
    "\n",
    "plt.rcParams.update({'font.size': 7})\n",
    "plt.figure(figsize=(2.2,1))\n",
    "\n",
    "data.columns=['model', 'baseline', '1bit-comp', '2bits-comp', '2bits-mem']\n",
    "\n",
    "bar_width = 0.15\n",
    "num_bars = 3  \n",
    "group_width = bar_width * num_bars  \n",
    "group_centers = np.arange(len(data))\n",
    "\n",
    "# Calculate position of each bar to center them\n",
    "r1 = group_centers - group_width/2 + bar_width/2  # First bar\n",
    "r2 = [x + bar_width for x in r1]\n",
    "r3 = [x + bar_width for x in r2]\n",
    "\n",
    "\n",
    "plt.bar(r1, data['1bit-comp'], width=bar_width, edgecolor='black', linewidth=1, color='thistle', zorder=5)  # Yellow\n",
    "plt.bar(r2, data['2bits-comp'], width=bar_width, edgecolor='black', linewidth=1, color='hotpink', zorder=5)  # Yellow\n",
    "plt.bar(r3, data['2bits-mem'], width=bar_width, edgecolor='black', linewidth=1, color='palevioletred', zorder=5)  # Yellow\n",
    "\n",
    "plt.xlabel('Models', labelpad=3)\n",
    "plt.xticks(range(len(data)), data.model, ha='center')\n",
    "plt.ylabel('Rouge-1')\n",
    "plt.yticks([0.8, 0.9, 1])\n",
    "plt.ylim(0.8, 1.1)\n",
    "\n",
    "\n",
    "plt.legend(data.columns[2:], loc='lower left', bbox_to_anchor=(0, 1.05, 1, 0.2), mode='expand', fontsize='small', ncol=2)\n",
    "plt.gca().margins(x=0.05)\n",
    "\n",
    "plt.grid(True,axis='y')\n",
    "plt.savefig('figs/xlsum-r1.pdf',dpi=100,bbox_inches = 'tight')\n",
    "\n",
    "plt.show()"
   ]
  },
  {
   "cell_type": "code",
   "execution_count": null,
   "id": "a7188d59",
   "metadata": {},
   "outputs": [
    {
     "data": {
      "image/png": "[encoded data removed]",
      "text/plain": [
       "<Figure size 158.4x72 with 1 Axes>"
      ]
     },
     "metadata": {
      "needs_background": "light"
     },
     "output_type": "display_data"
    }
   ],
   "source": [
    "#figure3 d bottom\n",
    "data = pd.read_excel('data/xlsum-rl.xlsx')\n",
    "\n",
    "plt.rcParams.update({'font.size': 7})\n",
    "plt.figure(figsize=(2.2,1))\n",
    "\n",
    "data.columns=['model', 'baseline', '1bit-comp', '2bits-comp', '2bits-mem']\n",
    "\n",
    "bar_width = 0.15\n",
    "num_bars = 3  \n",
    "group_width = bar_width * num_bars  \n",
    "group_centers = np.arange(len(data))\n",
    "\n",
    "# Calculate position of each bar to center them\n",
    "r1 = group_centers - group_width/2 + bar_width/2  # First bar   \n",
    "r2 = [x + bar_width for x in r1]\n",
    "r3 = [x + bar_width for x in r2]\n",
    "\n",
    "\n",
    "plt.bar(r1, data['1bit-comp'], width=bar_width, edgecolor='black', linewidth=1, color='thistle', zorder=5)  # Yellow\n",
    "plt.bar(r2, data['2bits-comp'], width=bar_width, edgecolor='black', linewidth=1, color='hotpink', zorder=5)  # Yellow\n",
    "plt.bar(r3, data['2bits-mem'], width=bar_width, edgecolor='black', linewidth=1, color='palevioletred', zorder=5)  # Yellow\n",
    "\n",
    "plt.xlabel('Models', labelpad=3)\n",
    "plt.xticks(range(len(data)), data.model, ha='center')\n",
    "plt.ylabel('Rouge-L')\n",
    "plt.yticks([0.8, 0.9, 1])\n",
    "plt.ylim(0.8, 1.1)\n",
    "\n",
    "\n",
    "#plt.legend(data.columns[2:], loc='lower left', bbox_to_anchor=(-0.1, 1.05, 1.2, 0.2), mode='expand', fontsize='small', ncol=2)\n",
    "plt.gca().margins(x=0.05)\n",
    "\n",
    "plt.grid(True,axis='y')\n",
    "plt.savefig('figs/xlsum-rl.pdf',dpi=100,bbox_inches = 'tight')\n",
    "\n",
    "plt.show()"
   ]
  },
  {
   "cell_type": "markdown",
   "id": "c8f6fd7e",
   "metadata": {},
   "source": [
    "## squad"
   ]
  },
  {
   "cell_type": "code",
   "execution_count": null,
   "id": "f1fd8aa2",
   "metadata": {},
   "outputs": [
    {
     "data": {
      "image/png": "[encoded data removed]",
      "text/plain": [
       "<Figure size 158.4x72 with 1 Axes>"
      ]
     },
     "metadata": {
      "needs_background": "light"
     },
     "output_type": "display_data"
    }
   ],
   "source": [
    "#figure3 e up\n",
    "data = pd.read_excel('data/sq-exact.xlsx')\n",
    "\n",
    "plt.rcParams.update({'font.size': 7})\n",
    "plt.figure(figsize=(2.2,1))\n",
    "\n",
    "data.columns=['model', 'baseline', '1bit-comp', '2bits-comp', '2bits-mem']\n",
    "\n",
    "bar_width = 0.15\n",
    "num_bars = 3  \n",
    "group_width = bar_width * num_bars  \n",
    "group_centers = np.arange(len(data))\n",
    "\n",
    "# Calculate position of each bar to center them\n",
    "r1 = group_centers - group_width/2 + bar_width/2  # First bar   \n",
    "r2 = [x + bar_width for x in r1]\n",
    "r3 = [x + bar_width for x in r2]\n",
    "\n",
    "\n",
    "plt.bar(r1, data['1bit-comp'], width=bar_width, edgecolor='black', linewidth=1, color='darkkhaki', zorder=5)  # Yellow\n",
    "plt.bar(r2, data['2bits-comp'], width=bar_width, edgecolor='black', linewidth=1, color='goldenrod', zorder=5)  # Yellow\n",
    "plt.bar(r3, data['2bits-mem'], width=bar_width, edgecolor='black', linewidth=1, color='orange', zorder=5)  # Yellow\n",
    "\n",
    "plt.xlabel('Models', labelpad=3)\n",
    "plt.xticks(range(len(data)), data.model, ha='center')\n",
    "plt.ylabel('Exact match')\n",
    "plt.yticks([0.8, 0.9, 1])\n",
    "plt.ylim(0.8, 1.1)\n",
    "\n",
    "\n",
    "plt.legend(data.columns[2:], loc='lower left', bbox_to_anchor=(0, 1.05, 1, 0.2), mode='expand', fontsize='small', ncol=2)\n",
    "plt.gca().margins(x=0.05)\n",
    "\n",
    "plt.grid(True,axis='y')\n",
    "plt.savefig('figs/sq-exact.pdf',dpi=100,bbox_inches = 'tight')\n",
    "\n",
    "plt.show()"
   ]
  },
  {
   "cell_type": "code",
   "execution_count": null,
   "id": "cae7de8a",
   "metadata": {},
   "outputs": [
    {
     "data": {
      "image/png": "[encoded data removed]",
      "text/plain": [
       "<Figure size 158.4x72 with 1 Axes>"
      ]
     },
     "metadata": {
      "needs_background": "light"
     },
     "output_type": "display_data"
    }
   ],
   "source": [
    "#figure3 e bottom\n",
    "data = pd.read_excel('data/sq-f1.xlsx')\n",
    "\n",
    "plt.rcParams.update({'font.size': 7})\n",
    "plt.figure(figsize=(2.2,1))\n",
    "\n",
    "data.columns=['model', 'baseline', '1bit-comp', '2bits-comp', '2bits-mem']\n",
    "\n",
    "bar_width = 0.15\n",
    "num_bars = 3  \n",
    "group_width = bar_width * num_bars  \n",
    "group_centers = np.arange(len(data))\n",
    "\n",
    "# Calculate position of each bar to center them\n",
    "r1 = group_centers - group_width/2 + bar_width/2  # First bar   \n",
    "r2 = [x + bar_width for x in r1]\n",
    "r3 = [x + bar_width for x in r2]\n",
    "\n",
    "\n",
    "plt.bar(r1, data['1bit-comp'], width=bar_width, edgecolor='black', linewidth=1, color='darkkhaki', zorder=5)  # Yellow\n",
    "plt.bar(r2, data['2bits-comp'], width=bar_width, edgecolor='black', linewidth=1, color='goldenrod', zorder=5)  # Yellow\n",
    "plt.bar(r3, data['2bits-mem'], width=bar_width, edgecolor='black', linewidth=1, color='orange', zorder=5)  # Yellow\n",
    "\n",
    "plt.xlabel('Models', labelpad=3)\n",
    "plt.xticks(range(len(data)), data.model, ha='center')\n",
    "plt.ylabel('F1 Score')\n",
    "plt.yticks([0.8, 0.9, 1])\n",
    "plt.ylim(0.8, 1.1)\n",
    "\n",
    "\n",
    "#plt.legend(data.columns[2:], loc='lower left', bbox_to_anchor=(-0.1, 1.05, 1.2, 0.2), mode='expand', fontsize='small', ncol=2)\n",
    "plt.gca().margins(x=0.05)\n",
    "\n",
    "plt.grid(True,axis='y')\n",
    "plt.savefig('figs/sq-f1.pdf',dpi=100,bbox_inches = 'tight')\n",
    "\n",
    "plt.show()"
   ]
  },
  {
   "cell_type": "markdown",
   "id": "3e7447d8",
   "metadata": {},
   "source": [
    "## avarage faultmodel"
   ]
  },
  {
   "cell_type": "code",
   "execution_count": 42,
   "id": "a51dbbd0-bb75-4ad4-9ea3-68b6e651371f",
   "metadata": {},
   "outputs": [
    {
     "data": {
      "image/png": "[encoded data removed]",
      "text/plain": [
       "<Figure size 180x72 with 1 Axes>"
      ]
     },
     "metadata": {
      "needs_background": "light"
     },
     "output_type": "display_data"
    }
   ],
   "source": [
    "#figure4\n",
    "data = pd.read_excel('data/average-faultmodel.xlsx')\n",
    "data.columns=['a', 'b']\n",
    "\n",
    "plt.rcParams.update({'font.size': 7})\n",
    "plt.figure(figsize=(2.5, 1))\n",
    "\n",
    "bar_width = 0.25\n",
    "r1 = np.arange(len(data))\n",
    "\n",
    "plt.bar(r1, data.b, width=bar_width, edgecolor='black', linewidth=1, color='#4682B4', zorder=5)  # Yellow\n",
    "\n",
    "plt.xlabel('Fault Models', labelpad=6)\n",
    "# labels = data.methods.to_list()\n",
    "# labels_wrapped = ['_\\n'.join(label.split('_')) for label in labels]\n",
    "# plt.xticks(range(len(labels)), labels_wrapped, ha='center')\n",
    "plt.xticks(range(len(data)), data.a, ha='center')\n",
    "plt.yticks([0.8, 0.9, 1])\n",
    "plt.ylim(0.8, 1.1)\n",
    "plt.gca().margins(x=0.1)\n",
    "plt.ylabel('Performance')\n",
    "plt.grid(True,axis='y')\n",
    "plt.savefig('figs/average-faultmodel.pdf',dpi=100,bbox_inches = 'tight')\n",
    "\n",
    "plt.show()"
   ]
  },
  {
   "cell_type": "markdown",
   "id": "ac70c9dc",
   "metadata": {},
   "source": [
    "## meaningless foundation "
   ]
  },
  {
   "cell_type": "code",
   "execution_count": null,
   "id": "52cf3ffc",
   "metadata": {},
   "outputs": [
    {
     "data": {
      "image/png": "[encoded data removed]",
      "text/plain": [
       "<Figure size 216x72 with 1 Axes>"
      ]
     },
     "metadata": {
      "needs_background": "light"
     },
     "output_type": "display_data"
    }
   ],
   "source": [
    "#figure7\n",
    "data = pd.read_excel('data/meaningless-foundationmodel.xlsx')\n",
    "\n",
    "plt.rcParams.update({'font.size': 7})\n",
    "plt.figure(figsize=(3,1))\n",
    "\n",
    "data.columns=['model', 'Falcon3-7B', 'Qwen2.5-7B']\n",
    "\n",
    "bar_width = 0.18\n",
    "num_bars = 2  \n",
    "group_width = bar_width * num_bars                  \n",
    "group_centers = np.arange(len(data))\n",
    "\n",
    "# Calculate position of each bar to center them\n",
    "r1 = group_centers - group_width/2 + bar_width/2  # First bar\n",
    "r2 = [x + bar_width for x in r1]\n",
    "\n",
    "\n",
    "\n",
    "bar1 = plt.bar(r1, data['Falcon3-7B'], width=bar_width, edgecolor='black', linewidth=1, color='sienna', zorder=5)  # Yellow\n",
    "bar2 = plt.bar(r2, data['Qwen2.5-7B'], width=bar_width, edgecolor='black', linewidth=1, color='lightsalmon', zorder=5)  # Yellow\n",
    "\n",
    "def add_labels(bars):\n",
    "    for bar in bars:\n",
    "        height = bar.get_height()\n",
    "        plt.text(bar.get_x() + bar.get_width()/2. - 0.03, height + 0.8,\n",
    "                 f'{height:.1f}', ha='center', va='bottom', fontsize=7)\n",
    "\n",
    "def add_labels1(bars):\n",
    "    for bar in bars:\n",
    "        height = bar.get_height()\n",
    "        plt.text(bar.get_x() + bar.get_width()/2., height + 0.8,\n",
    "                 f'{height:.1f}', ha='center', va='bottom', fontsize=7)\n",
    "        \n",
    "add_labels(bar1)\n",
    "add_labels1(bar2)\n",
    "\n",
    "\n",
    "plt.xlabel('Fault Models', labelpad=3)\n",
    "plt.xticks(range(len(data)), data.model, ha='center')\n",
    "plt.ylabel('Percentage\\nof Output (%)')\n",
    "plt.yticks([6, 12])\n",
    "plt.ylim(0, 18)\n",
    "\n",
    "\n",
    "plt.legend(data.columns[1:], loc='lower left', bbox_to_anchor=(0, 0.72, 0.8, 0.2), mode='expand', fontsize='small', ncol=2)\n",
    "plt.gca().margins(x=0.1)\n",
    "\n",
    "plt.grid(True,axis='y')\n",
    "plt.savefig('figs/meaningless-foundationmodel.pdf',dpi=100,bbox_inches = 'tight')\n",
    "\n",
    "plt.show()"
   ]
  },
  {
   "cell_type": "markdown",
   "id": "cb339275",
   "metadata": {},
   "source": [
    "## avarage task"
   ]
  },
  {
   "cell_type": "code",
   "execution_count": 49,
   "id": "087e3287-25c1-4bca-876d-380c6528da48",
   "metadata": {},
   "outputs": [
    {
     "data": {
      "image/png": "[encoded data removed]",
      "text/plain": [
       "<Figure size 468x72 with 1 Axes>"
      ]
     },
     "metadata": {
      "needs_background": "light"
     },
     "output_type": "display_data"
    }
   ],
   "source": [
    "#figure8\n",
    "data = pd.read_excel('data/average-task.xlsx')\n",
    "data = data.iloc[:,1:]\n",
    "data = data.rename(columns={'Unnamed: 1': 'Models'})\n",
    "\n",
    "plt.rcParams.update({'font.size': 9})\n",
    "plt.figure(figsize=(6.5,1))\n",
    "\n",
    "total_bars = len(data)\n",
    "bar_width = 0.1\n",
    "positions = []\n",
    "current_pos = 0\n",
    "\n",
    "for i in range(len(data)):\n",
    "    for j in range(3):\n",
    "        positions.append(current_pos + j * bar_width)\n",
    "    \n",
    "    if i < len(data) - 1:  \n",
    "        if i == 4 or i ==5 or i ==9:  \n",
    "            current_pos += 5 * bar_width\n",
    "        else: \n",
    "            current_pos += 4 * bar_width\n",
    "positions = np.array(positions).reshape(len(data), 3)\n",
    "# Create bars with different colors\n",
    "# plt.bar(r1, data['w/o protection'], width=bar_width, label='FI', color='#474762', hatch = 'o*-+', zorder=5)  # Green\n",
    "# # plt.bar(r2, data['ranger'], width=bar_width, label='ranger', color='#E7BDB0', hatch = '|/-\\\\',zorder=5)  # Blue\n",
    "# plt.bar(r2, data['Ranger'], width=bar_width, label='ranger', color='#E7BDB0', hatch = '|/-\\\\',zorder=5)  # Blue\n",
    "# plt.bar(r3, data['MaxiMals'], width=bar_width, label='global cli', color='#953738', hatch = '*',zorder=5)  # Red\n",
    "# plt.bar(r4, data['Global Clipper'], width=bar_width, label='maximal', color='#345F71',  hatch='\\/', zorder=5)  # Yellow\n",
    "# plt.bar(r5, data['DRY'], width=bar_width, label='pretrain', color='#FFC474', hatch='/', zorder=5)  # Red\n",
    "# # plt.bar(r6, data['ours'], width=bar_width, label='ours', color='#8B522F', hatch='/\\\\/\\\\', zorder=5)  # Yellow\n",
    "# plt.bar(r6, data['ZERO-DRY'], width=bar_width, label='ours', color='#8B522F', hatch='o', zorder=5)  # Yellow\n",
    "# plt.bar(positions[:, 0], data['w/o protection'], width=bar_width, label='FI', edgecolor='#493131', linewidth=0.5, color='whitesmoke', hatch = '/', zorder=5)  # Green\n",
    "# plt.bar(positions[:, 1], data['Ranger'], width=bar_width, label='ranger', edgecolor='#493131', linewidth=0.5, color='darkorange', hatch = '\\\\\\\\', zorder=5)  # Blue\n",
    "# plt.bar(positions[:, 2], data['MaxiMals'], width=bar_width, label='global cli', edgecolor='#493131', linewidth=0.5, color='lightsalmon', hatch = '+',zorder=5)  # Red\n",
    "# plt.bar(positions[:, 3], data['Global Clipper'], width=bar_width, label='maximal', edgecolor='#493131', linewidth=0.5, color='peachpuff', hatch = 'x', zorder=5)  # Yellow\n",
    "# plt.bar(positions[:, 4], data['ZERO-DRY + offline profiling'], width=bar_width, label='pretrain', edgecolor='#493131', linewidth=0.5, color='#6cb3da', hatch = '.', zorder=5)  # Red\n",
    "# plt.bar(positions[:, 5], data['ZERO-DRY'],width=bar_width, label='ours', edgecolor='#493131', linewidth=0.5, color='#3b5da3', zorder=5)  # Yellow\n",
    "plt.bar(positions[:, 0], data['1bit-comp'], width=bar_width, label='2bits-weights', edgecolor='black', linewidth=0.5, color='darkseagreen',  zorder=5)  # Red\n",
    "plt.bar(positions[:, 1], data['2bits-comp'], width=bar_width, label='2bits-neurons', edgecolor='black', linewidth=0.5, color='cadetblue', zorder=5)  # Blue\n",
    "plt.bar(positions[:, 2], data['2bits-mem'], width=bar_width, label='1bit-neurons', edgecolor='black', linewidth=0.5, color='steelblue', zorder=5)\n",
    "#plt.bar(positions[:, 2], data['GSM8K'], width=bar_width, label='global cli', edgecolor='black', linewidth=0.5, color='#f5f8fa',  zorder=5)  # Red\n",
    "# 'whitesmoke', 'darkorange', 'lightsalmon', 'peachpuff', '#6cb3da', '#3b5da3'\n",
    "# labels = ['squad_v2', 'xtreme', 'gsm8k']\n",
    "# positions = [2, 5, 8] \n",
    "# plt.xticks(positions, labels)\n",
    "group_centers = positions.mean(axis=1)\n",
    "plt.subplots_adjust(left=0.05, right=0.9)\n",
    "# plt.legend(data.columns[1:], loc='upper right', fontsize='small', ncol=2)\n",
    "# plt.xlabel('Models')\n",
    "plt.ylabel('Performance')\n",
    "plt.yticks([0.8, 0.9, 1])\n",
    "plt.ylim(0.8, 1.1)\n",
    "plt.text(group_centers[3]-0.2, 0.65, 'Multiple Choice', ha='center')  \n",
    "plt.text(group_centers[8], 0.65, 'Generative Tasks', ha='center')\n",
    "\n",
    "labels = data.Models.to_list()\n",
    "labels_wrapped = ['\\n'.join(label.split(' ')[:3]) for label in labels]\n",
    "plt.xticks(group_centers, labels_wrapped)\n",
    "# plt.xticks(range(len(data.Models)), data.Models, rotation=45, ha='center')\n",
    "# plt.legend(data.columns[1:], bbox_to_anchor=(1, 1), fontsize='small', ncol=1)\n",
    "plt.legend(data.columns[1:], loc='lower left', bbox_to_anchor=(0, 1.1, 0.6, 0.2), mode='expand', fontsize='small', ncol=3)\n",
    "shift = -0.245\n",
    "target_idx1 = group_centers[5]\n",
    "target_idx2 = group_centers[6]\n",
    "target_idx3 = group_centers[10]\n",
    "plt.gca().margins(x=0.01)\n",
    "plt.axvline(x=target_idx1 + shift, color='gray', linestyle='--', ymin=0, ymax=1, clip_on=False)\n",
    "plt.axvline(x=target_idx2 + shift, color='gray', linestyle='--', ymin=-0.7, ymax=1, clip_on=False)\n",
    "plt.axvline(x=target_idx3 + shift, color='gray', linestyle='--', ymin=0, ymax=1, clip_on=False)\n",
    "plt.grid(True,axis='y')\n",
    "plt.savefig('figs/average-task.pdf',dpi=100,bbox_inches = 'tight')\n",
    "\n",
    "plt.show()"
   ]
  },
  {
   "cell_type": "markdown",
   "id": "7c602277",
   "metadata": {},
   "source": [
    "## moe "
   ]
  },
  {
   "cell_type": "code",
   "execution_count": null,
   "id": "688940a5",
   "metadata": {},
   "outputs": [
    {
     "data": {
      "image/png": "[encoded data removed]",
      "text/plain": [
       "<Figure size 288x72 with 1 Axes>"
      ]
     },
     "metadata": {
      "needs_background": "light"
     },
     "output_type": "display_data"
    }
   ],
   "source": [
    "#figure11\n",
    "data = pd.read_excel('data/moe.xlsx')\n",
    "\n",
    "plt.rcParams.update({'font.size': 7})\n",
    "plt.figure(figsize=(4,1))\n",
    "\n",
    "data.columns=['model', 'Llama3.2-MoE', 'Llama3.2-3B']\n",
    "\n",
    "bar_width = 0.18\n",
    "num_bars = 2  \n",
    "group_width = bar_width * num_bars  \n",
    "group_centers = np.arange(len(data))\n",
    "\n",
    "# Calculate position of each bar to center them\n",
    "r1 = group_centers - group_width/2 + bar_width/2  # First bar   \n",
    "r2 = [x + bar_width for x in r1]\n",
    "\n",
    "\n",
    "\n",
    "plt.bar(r1, data['Llama3.2-MoE'], width=bar_width, edgecolor='black', linewidth=1, color='sienna', zorder=5)  # Yellow\n",
    "plt.bar(r2, data['Llama3.2-3B'], width=bar_width, edgecolor='black', linewidth=1, color='lightsalmon', zorder=5)  # Yellow\n",
    "\n",
    "\n",
    "plt.xlabel('Datasets', labelpad=3)\n",
    "plt.xticks(range(len(data)), data.model, ha='center')\n",
    "plt.ylabel('Performance')\n",
    "plt.yticks([0.8, 0.9, 1])\n",
    "plt.ylim(0.85, 1.1)\n",
    "\n",
    "\n",
    "plt.legend(data.columns[1:], loc='lower left', bbox_to_anchor=(0, 0.73, 0.6, 0.2), mode='expand', fontsize='small', ncol=2)\n",
    "plt.gca().margins(x=0.1)\n",
    "\n",
    "plt.grid(True,axis='y')\n",
    "plt.savefig('figs/moe.pdf',dpi=100,bbox_inches = 'tight')\n",
    "\n",
    "plt.show()"
   ]
  },
  {
   "cell_type": "markdown",
   "id": "686dd6fc",
   "metadata": {},
   "source": [
    "## gate layer "
   ]
  },
  {
   "cell_type": "code",
   "execution_count": 46,
   "id": "ea3227b4",
   "metadata": {},
   "outputs": [
    {
     "data": {
      "image/png": "[encoded data removed]",
      "text/plain": [
       "<Figure size 122.4x72 with 1 Axes>"
      ]
     },
     "metadata": {
      "needs_background": "light"
     },
     "output_type": "display_data"
    }
   ],
   "source": [
    "#figure12\n",
    "data = pd.read_excel('data/gate-layer.xlsx')\n",
    "data.columns=['a', 'b']\n",
    "\n",
    "plt.rcParams.update({'font.size': 9})\n",
    "plt.figure(figsize=(1.7, 1))\n",
    "\n",
    "bar_width = 0.25\n",
    "r1 = np.arange(len(data))\n",
    "\n",
    "bar1 = plt.bar(r1, data.b, width=bar_width, edgecolor='black', linewidth=1, color='#4682B4', zorder=5)  # Yellow\n",
    "\n",
    "def add_labels(bars):\n",
    "    for bar in bars:\n",
    "        height = bar.get_height()\n",
    "        plt.text(bar.get_x() + bar.get_width()/2., height + 0.02,\n",
    "                 f'{height:.3f}', ha='center', va='bottom', fontsize=8)\n",
    "        \n",
    "add_labels(bar1)\n",
    "\n",
    "plt.xlabel('Metrics', labelpad=6)\n",
    "# labels = data.methods.to_list()\n",
    "# labels_wrapped = ['_\\n'.join(label.split('_')) for label in labels]\n",
    "# plt.xticks(range(len(labels)), labels_wrapped, ha='center')\n",
    "plt.xticks(range(len(data)), data.a, ha='center')\n",
    "plt.yticks([0.8, 0.9, 1])\n",
    "plt.ylim(0.85, 1.05)\n",
    "plt.gca().margins(x=0.1)\n",
    "plt.ylabel('Performance')\n",
    "plt.grid(True,axis='y')\n",
    "plt.savefig('figs/gate-layer.pdf',dpi=100,bbox_inches = 'tight')\n",
    "\n",
    "plt.show()"
   ]
  },
  {
   "cell_type": "markdown",
   "id": "31439bd1",
   "metadata": {},
   "source": [
    "## model size "
   ]
  },
  {
   "cell_type": "code",
   "execution_count": null,
   "id": "9cdb40da",
   "metadata": {},
   "outputs": [
    {
     "data": {
      "image/png": "[encoded data removed]",
      "text/plain": [
       "<Figure size 180x72 with 1 Axes>"
      ]
     },
     "metadata": {
      "needs_background": "light"
     },
     "output_type": "display_data"
    }
   ],
   "source": [
    "#figure13\n",
    "data = pd.read_excel('data/modelsize.xlsx')\n",
    "\n",
    "plt.rcParams.update({'font.size': 7})\n",
    "plt.figure(figsize=(2.5,1))\n",
    "\n",
    "data.columns=['model', '1.5B', '3B', '7B']\n",
    "\n",
    "bar_width = 0.15\n",
    "num_bars = 3  \n",
    "group_width = bar_width * num_bars  \n",
    "group_centers = np.arange(len(data))\n",
    "\n",
    "# Calculate position of each bar to center them\n",
    "r1 = group_centers - group_width/2 + bar_width/2  # First bar       \n",
    "r2 = [x + bar_width for x in r1]\n",
    "r3 = [x + bar_width for x in r2]\n",
    "\n",
    "plt.bar(r1, data['1.5B'], width=bar_width, edgecolor='black', linewidth=1, color='darkkhaki', zorder=5)  # Yellow\n",
    "plt.bar(r2, data['3B'], width=bar_width, edgecolor='black', linewidth=1, color='goldenrod', zorder=5)  # Yellow\n",
    "plt.bar(r3, data['7B'], width=bar_width, edgecolor='black', linewidth=1, color='orange', zorder=5)  # Yellow\n",
    "\n",
    "plt.xlabel('Datasets', labelpad=3)\n",
    "plt.xticks(range(len(data)), data.model, ha='center')\n",
    "plt.ylabel('Accuracy')\n",
    "plt.yticks([0.8, 0.9, 1])\n",
    "plt.ylim(0.8, 1.1)\n",
    "\n",
    "\n",
    "plt.legend(data.columns[1:], loc='lower left', bbox_to_anchor=(0, 0.72, 0.8, 0.2), mode='expand', fontsize='small', ncol=3)\n",
    "plt.gca().margins(x=0.15)\n",
    "\n",
    "plt.grid(True,axis='y')\n",
    "plt.savefig('figs/modelsize.pdf',dpi=100,bbox_inches = 'tight')\n",
    "\n",
    "plt.show()"
   ]
  },
  {
   "cell_type": "markdown",
   "id": "d78a28fa",
   "metadata": {},
   "source": [
    "## quantize "
   ]
  },
  {
   "cell_type": "code",
   "execution_count": null,
   "id": "5cd598dc",
   "metadata": {},
   "outputs": [
    {
     "data": {
      "image/png": "[encoded data removed]",
      "text/plain": [
       "<Figure size 252x72 with 1 Axes>"
      ]
     },
     "metadata": {
      "needs_background": "light"
     },
     "output_type": "display_data"
    }
   ],
   "source": [
    "#figure14\n",
    "data = pd.read_excel('data/quantize.xlsx')\n",
    "\n",
    "plt.rcParams.update({'font.size': 7})\n",
    "plt.figure(figsize=(3.5,1))\n",
    "\n",
    "data.columns=['model', 'GPTQ-4bit', 'GPTQ-8bit', 'BF16']\n",
    "\n",
    "bar_width = 0.15\n",
    "num_bars = 3  \n",
    "group_width = bar_width * num_bars  \n",
    "group_centers = np.arange(len(data))\n",
    "\n",
    "# Calculate position of each bar to center them\n",
    "r1 = group_centers - group_width/2 + bar_width/2  # First bar\n",
    "r2 = [x + bar_width for x in r1]\n",
    "r3 = [x + bar_width for x in r2]\n",
    "\n",
    "plt.bar(r1, data['GPTQ-4bit'], width=bar_width, edgecolor='black', linewidth=1, color='sienna', zorder=5)  # Yellow\n",
    "plt.bar(r2, data['GPTQ-8bit'], width=bar_width, edgecolor='black', linewidth=1, color='lightsalmon', zorder=5)  # Yellow\n",
    "plt.bar(r3, data['BF16'], width=bar_width, edgecolor='black', linewidth=1, color='peru', zorder=5)  # Yellow\n",
    "\n",
    "plt.xlabel('Datasets', labelpad=3)\n",
    "plt.xticks(range(len(data)), data.model, ha='center')\n",
    "plt.ylabel('Accuracy')\n",
    "plt.yticks([0.8, 0.9, 1])\n",
    "plt.ylim(0.8, 1.12)\n",
    "\n",
    "\n",
    "plt.legend(data.columns[1:], loc='lower left', bbox_to_anchor=(0, 0.72, 0.8, 0.2), mode='expand', fontsize='small', ncol=3)\n",
    "plt.gca().margins(x=0.1)\n",
    "\n",
    "plt.grid(True,axis='y')\n",
    "plt.savefig('figs/quantize.pdf',dpi=100,bbox_inches = 'tight')\n",
    "\n",
    "plt.show()"
   ]
  },
  {
   "cell_type": "markdown",
   "id": "3de4c830",
   "metadata": {},
   "source": [
    "## beam "
   ]
  },
  {
   "cell_type": "code",
   "execution_count": 43,
   "id": "98a28a27",
   "metadata": {},
   "outputs": [
    {
     "data": {
      "image/png": "[encoded data removed]",
      "text/plain": [
       "<Figure size 288x72 with 1 Axes>"
      ]
     },
     "metadata": {
      "needs_background": "light"
     },
     "output_type": "display_data"
    }
   ],
   "source": [
    "#figure15 a\n",
    "data = pd.read_excel('data/beamwmt.xlsx')\n",
    "data = data.iloc[:,1:]\n",
    "data = data.rename(columns={'Unnamed: 1': 'Models'})\n",
    "\n",
    "plt.rcParams.update({'font.size': 7})\n",
    "plt.figure(figsize=(4,1))\n",
    "\n",
    "total_bars = len(data)\n",
    "bar_width = 0.1\n",
    "positions = []\n",
    "current_pos = 0\n",
    "\n",
    "for i in range(len(data)):\n",
    "    for j in range(2):\n",
    "        positions.append(current_pos + j * bar_width)\n",
    "    \n",
    "    if i < len(data) - 1:  \n",
    "        if i == 1 or i ==3:  \n",
    "            current_pos += 4 * bar_width\n",
    "        else: \n",
    "            current_pos += 3 * bar_width\n",
    "positions = np.array(positions).reshape(len(data), 2)\n",
    "# Create bars with different colors\n",
    "# plt.bar(r1, data['w/o protection'], width=bar_width, label='FI', color='#474762', hatch = 'o*-+', zorder=5)  # Green\n",
    "# # plt.bar(r2, data['ranger'], width=bar_width, label='ranger', color='#E7BDB0', hatch = '|/-\\\\',zorder=5)  # Blue\n",
    "# plt.bar(r2, data['Ranger'], width=bar_width, label='ranger', color='#E7BDB0', hatch = '|/-\\\\',zorder=5)  # Blue\n",
    "# plt.bar(r3, data['MaxiMals'], width=bar_width, label='global cli', color='#953738', hatch = '*',zorder=5)  # Red\n",
    "# plt.bar(r4, data['Global Clipper'], width=bar_width, label='maximal', color='#345F71',  hatch='\\/', zorder=5)  # Yellow\n",
    "# plt.bar(r5, data['DRY'], width=bar_width, label='pretrain', color='#FFC474', hatch='/', zorder=5)  # Red\n",
    "# # plt.bar(r6, data['ours'], width=bar_width, label='ours', color='#8B522F', hatch='/\\\\/\\\\', zorder=5)  # Yellow\n",
    "# plt.bar(r6, data['ZERO-DRY'], width=bar_width, label='ours', color='#8B522F', hatch='o', zorder=5)  # Yellow\n",
    "# plt.bar(positions[:, 0], data['w/o protection'], width=bar_width, label='FI', edgecolor='#493131', linewidth=0.5, color='whitesmoke', hatch = '/', zorder=5)  # Green\n",
    "# plt.bar(positions[:, 1], data['Ranger'], width=bar_width, label='ranger', edgecolor='#493131', linewidth=0.5, color='darkorange', hatch = '\\\\\\\\', zorder=5)  # Blue\n",
    "# plt.bar(positions[:, 2], data['MaxiMals'], width=bar_width, label='global cli', edgecolor='#493131', linewidth=0.5, color='lightsalmon', hatch = '+',zorder=5)  # Red\n",
    "# plt.bar(positions[:, 3], data['Global Clipper'], width=bar_width, label='maximal', edgecolor='#493131', linewidth=0.5, color='peachpuff', hatch = 'x', zorder=5)  # Yellow\n",
    "# plt.bar(positions[:, 4], data['ZERO-DRY + offline profiling'], width=bar_width, label='pretrain', edgecolor='#493131', linewidth=0.5, color='#6cb3da', hatch = '.', zorder=5)  # Red\n",
    "# plt.bar(positions[:, 5], data['ZERO-DRY'],width=bar_width, label='ours', edgecolor='#493131', linewidth=0.5, color='#3b5da3', zorder=5)  # Yellow\n",
    "plt.bar(positions[:, 0], data['beam search'], width=bar_width, label='2bits-weights', edgecolor='black', linewidth=0.5, color='darkseagreen',  zorder=5)  # Red\n",
    "plt.bar(positions[:, 1], data['greedy search'], width=bar_width, label='2bits-neurons', edgecolor='black', linewidth=0.5, color='cadetblue', zorder=5)  # Blue\n",
    "#plt.bar(positions[:, 2], data['GSM8K'], width=bar_width, label='global cli', edgecolor='black', linewidth=0.5, color='#f5f8fa',  zorder=5)  # Red\n",
    "# 'whitesmoke', 'darkorange', 'lightsalmon', 'peachpuff', '#6cb3da', '#3b5da3'\n",
    "# labels = ['squad_v2', 'xtreme', 'gsm8k']\n",
    "# positions = [2, 5, 8] \n",
    "# plt.xticks(positions, labels)\n",
    "group_centers = positions.mean(axis=1)\n",
    "plt.subplots_adjust(left=0.05, right=0.9)\n",
    "# plt.legend(data.columns[1:], loc='upper right', fontsize='small', ncol=2)\n",
    "# plt.xlabel('Models')\n",
    "plt.ylabel('Performance')\n",
    "plt.yticks([0.8, 0.9, 1])\n",
    "plt.ylim(0.85, 1.05)\n",
    "plt.text(group_centers[1]-0.14, 0.75, 'Qwen2.5-7B', ha='center')  \n",
    "plt.text(group_centers[3]-0.14, 0.75, 'ALMA-7B', ha='center')\n",
    "plt.text(group_centers[5]-0.14, 0.75, 'LLama2-7B', ha='center')\n",
    "labels = data.Models.to_list()\n",
    "labels_wrapped = ['\\n'.join(label.split(' ')[:3]) for label in labels]\n",
    "plt.xticks(group_centers, labels_wrapped)\n",
    "# plt.xticks(range(len(data.Models)), data.Models, rotation=45, ha='center')\n",
    "# plt.legend(data.columns[1:], bbox_to_anchor=(1, 1), fontsize='small', ncol=1)\n",
    "plt.legend(data.columns[1:], loc='lower left', bbox_to_anchor=(0, 1.1, 0.6, 0.2), mode='expand', fontsize='small', ncol=2)\n",
    "shift = -0.2\n",
    "target_idx1 = group_centers[2]\n",
    "target_idx2 = group_centers[4]\n",
    "plt.gca().margins(x=0.05)\n",
    "plt.axvline(x=target_idx1 + shift, color='gray', linestyle='--', ymin=-0.6, ymax=1, clip_on=False)\n",
    "plt.axvline(x=target_idx2 + shift, color='gray', linestyle='--', ymin=-0.6, ymax=1, clip_on=False)\n",
    "plt.grid(True,axis='y')\n",
    "plt.savefig('figs/beamwmt.pdf',dpi=100,bbox_inches = 'tight')\n",
    "\n",
    "plt.show()"
   ]
  },
  {
   "cell_type": "code",
   "execution_count": 44,
   "id": "525e6cb7",
   "metadata": {},
   "outputs": [
    {
     "data": {
      "image/png": "[encoded data removed]",
      "text/plain": [
       "<Figure size 288x72 with 1 Axes>"
      ]
     },
     "metadata": {
      "needs_background": "light"
     },
     "output_type": "display_data"
    }
   ],
   "source": [
    "#figure15 b\n",
    "data = pd.read_excel('data/beamxlsum.xlsx')\n",
    "data = data.iloc[:,1:]\n",
    "data = data.rename(columns={'Unnamed: 1': 'Models'})\n",
    "\n",
    "plt.rcParams.update({'font.size': 7})\n",
    "plt.figure(figsize=(4,1))\n",
    "\n",
    "total_bars = len(data)\n",
    "bar_width = 0.1\n",
    "positions = []\n",
    "current_pos = 0\n",
    "\n",
    "for i in range(len(data)):\n",
    "    for j in range(2):\n",
    "        positions.append(current_pos + j * bar_width)\n",
    "    \n",
    "    if i < len(data) - 1:  \n",
    "        if i == 1 or i ==3:  \n",
    "            current_pos += 4 * bar_width\n",
    "        else: \n",
    "            current_pos += 3 * bar_width\n",
    "positions = np.array(positions).reshape(len(data), 2)\n",
    "# Create bars with different colors\n",
    "# plt.bar(r1, data['w/o protection'], width=bar_width, label='FI', color='#474762', hatch = 'o*-+', zorder=5)  # Green\n",
    "# # plt.bar(r2, data['ranger'], width=bar_width, label='ranger', color='#E7BDB0', hatch = '|/-\\\\',zorder=5)  # Blue\n",
    "# plt.bar(r2, data['Ranger'], width=bar_width, label='ranger', color='#E7BDB0', hatch = '|/-\\\\',zorder=5)  # Blue\n",
    "# plt.bar(r3, data['MaxiMals'], width=bar_width, label='global cli', color='#953738', hatch = '*',zorder=5)  # Red\n",
    "# plt.bar(r4, data['Global Clipper'], width=bar_width, label='maximal', color='#345F71',  hatch='\\/', zorder=5)  # Yellow\n",
    "# plt.bar(r5, data['DRY'], width=bar_width, label='pretrain', color='#FFC474', hatch='/', zorder=5)  # Red\n",
    "# # plt.bar(r6, data['ours'], width=bar_width, label='ours', color='#8B522F', hatch='/\\\\/\\\\', zorder=5)  # Yellow\n",
    "# plt.bar(r6, data['ZERO-DRY'], width=bar_width, label='ours', color='#8B522F', hatch='o', zorder=5)  # Yellow\n",
    "# plt.bar(positions[:, 0], data['w/o protection'], width=bar_width, label='FI', edgecolor='#493131', linewidth=0.5, color='whitesmoke', hatch = '/', zorder=5)  # Green\n",
    "# plt.bar(positions[:, 1], data['Ranger'], width=bar_width, label='ranger', edgecolor='#493131', linewidth=0.5, color='darkorange', hatch = '\\\\\\\\', zorder=5)  # Blue\n",
    "# plt.bar(positions[:, 2], data['MaxiMals'], width=bar_width, label='global cli', edgecolor='#493131', linewidth=0.5, color='lightsalmon', hatch = '+',zorder=5)  # Red\n",
    "# plt.bar(positions[:, 3], data['Global Clipper'], width=bar_width, label='maximal', edgecolor='#493131', linewidth=0.5, color='peachpuff', hatch = 'x', zorder=5)  # Yellow\n",
    "# plt.bar(positions[:, 4], data['ZERO-DRY + offline profiling'], width=bar_width, label='pretrain', edgecolor='#493131', linewidth=0.5, color='#6cb3da', hatch = '.', zorder=5)  # Red\n",
    "# plt.bar(positions[:, 5], data['ZERO-DRY'],width=bar_width, label='ours', edgecolor='#493131', linewidth=0.5, color='#3b5da3', zorder=5)  # Yellow\n",
    "plt.bar(positions[:, 0], data['beam search'], width=bar_width, label='2bits-weights', edgecolor='black', linewidth=0.5, color='darkseagreen',  zorder=5)  # Red\n",
    "plt.bar(positions[:, 1], data['greedy search'], width=bar_width, label='2bits-neurons', edgecolor='black', linewidth=0.5, color='cadetblue', zorder=5)  # Blue\n",
    "#plt.bar(positions[:, 2], data['GSM8K'], width=bar_width, label='global cli', edgecolor='black', linewidth=0.5, color='#f5f8fa',  zorder=5)  # Red\n",
    "# 'whitesmoke', 'darkorange', 'lightsalmon', 'peachpuff', '#6cb3da', '#3b5da3'\n",
    "# labels = ['squad_v2', 'xtreme', 'gsm8k']\n",
    "# positions = [2, 5, 8] \n",
    "# plt.xticks(positions, labels)\n",
    "group_centers = positions.mean(axis=1)\n",
    "plt.subplots_adjust(left=0.05, right=0.9)\n",
    "# plt.legend(data.columns[1:], loc='upper right', fontsize='small', ncol=2)\n",
    "# plt.xlabel('Models')\n",
    "plt.ylabel('Performance')\n",
    "plt.yticks([0.8, 0.9, 1])\n",
    "plt.ylim(0.85, 1.05)\n",
    "plt.text(group_centers[1]-0.14, 0.75, 'Qwen2.5-7B', ha='center')  \n",
    "plt.text(group_centers[3]-0.14, 0.75, 'Summarizer', ha='center')\n",
    "plt.text(group_centers[5]-0.14, 0.75, 'LLama3.1-8B', ha='center')\n",
    "labels = data.Models.to_list()\n",
    "labels_wrapped = ['\\n'.join(label.split(' ')[:3]) for label in labels]\n",
    "plt.xticks(group_centers, labels_wrapped)\n",
    "# plt.xticks(range(len(data.Models)), data.Models, rotation=45, ha='center')\n",
    "# plt.legend(data.columns[1:], bbox_to_anchor=(1, 1), fontsize='small', ncol=1)\n",
    "plt.legend(data.columns[1:], loc='lower left', bbox_to_anchor=(0, 1.1, 0.6, 0.2), mode='expand', fontsize='small', ncol=2)\n",
    "shift = -0.2\n",
    "target_idx1 = group_centers[2]\n",
    "target_idx2 = group_centers[4]\n",
    "plt.gca().margins(x=0.05)\n",
    "plt.axvline(x=target_idx1 + shift, color='gray', linestyle='--', ymin=-0.6, ymax=1, clip_on=False)\n",
    "plt.axvline(x=target_idx2 + shift, color='gray', linestyle='--', ymin=-0.6, ymax=1, clip_on=False)\n",
    "plt.grid(True,axis='y')\n",
    "plt.savefig('figs/beamxlsum.pdf',dpi=100,bbox_inches = 'tight')\n",
    "\n",
    "plt.show()"
   ]
  },
  {
   "cell_type": "markdown",
   "id": "199b0262",
   "metadata": {},
   "source": [
    "## cot "
   ]
  },
  {
   "cell_type": "code",
   "execution_count": 48,
   "id": "c22f1aef",
   "metadata": {},
   "outputs": [
    {
     "data": {
      "image/png": "[encoded data removed]",
      "text/plain": [
       "<Figure size 288x72 with 1 Axes>"
      ]
     },
     "metadata": {
      "needs_background": "light"
     },
     "output_type": "display_data"
    }
   ],
   "source": [
    "#figure16\n",
    "data = pd.read_excel('data/cot.xlsx')\n",
    "data = data.iloc[:,1:]\n",
    "data = data.rename(columns={'Unnamed: 1': 'Models'})\n",
    "\n",
    "plt.rcParams.update({'font.size': 7})\n",
    "plt.figure(figsize=(4,1))\n",
    "\n",
    "total_bars = len(data)\n",
    "bar_width = 0.1\n",
    "positions = []\n",
    "current_pos = 0\n",
    "\n",
    "for i in range(len(data)):\n",
    "    for j in range(3):\n",
    "        positions.append(current_pos + j * bar_width)\n",
    "    \n",
    "    if i < len(data) - 1:  \n",
    "        if i == 1:  \n",
    "            current_pos += 5 * bar_width\n",
    "        else: \n",
    "            current_pos += 4 * bar_width\n",
    "positions = np.array(positions).reshape(len(data), 3)\n",
    "# Create bars with different colors\n",
    "# plt.bar(r1, data['w/o protection'], width=bar_width, label='FI', color='#474762', hatch = 'o*-+', zorder=5)  # Green\n",
    "# # plt.bar(r2, data['ranger'], width=bar_width, label='ranger', color='#E7BDB0', hatch = '|/-\\\\',zorder=5)  # Blue\n",
    "# plt.bar(r2, data['Ranger'], width=bar_width, label='ranger', color='#E7BDB0', hatch = '|/-\\\\',zorder=5)  # Blue\n",
    "# plt.bar(r3, data['MaxiMals'], width=bar_width, label='global cli', color='#953738', hatch = '*',zorder=5)  # Red\n",
    "# plt.bar(r4, data['Global Clipper'], width=bar_width, label='maximal', color='#345F71',  hatch='\\/', zorder=5)  # Yellow\n",
    "# plt.bar(r5, data['DRY'], width=bar_width, label='pretrain', color='#FFC474', hatch='/', zorder=5)  # Red\n",
    "# # plt.bar(r6, data['ours'], width=bar_width, label='ours', color='#8B522F', hatch='/\\\\/\\\\', zorder=5)  # Yellow\n",
    "# plt.bar(r6, data['ZERO-DRY'], width=bar_width, label='ours', color='#8B522F', hatch='o', zorder=5)  # Yellow\n",
    "# plt.bar(positions[:, 0], data['w/o protection'], width=bar_width, label='FI', edgecolor='#493131', linewidth=0.5, color='whitesmoke', hatch = '/', zorder=5)  # Green\n",
    "# plt.bar(positions[:, 1], data['Ranger'], width=bar_width, label='ranger', edgecolor='#493131', linewidth=0.5, color='darkorange', hatch = '\\\\\\\\', zorder=5)  # Blue\n",
    "# plt.bar(positions[:, 2], data['MaxiMals'], width=bar_width, label='global cli', edgecolor='#493131', linewidth=0.5, color='lightsalmon', hatch = '+',zorder=5)  # Red\n",
    "# plt.bar(positions[:, 3], data['Global Clipper'], width=bar_width, label='maximal', edgecolor='#493131', linewidth=0.5, color='peachpuff', hatch = 'x', zorder=5)  # Yellow\n",
    "# plt.bar(positions[:, 4], data['ZERO-DRY + offline profiling'], width=bar_width, label='pretrain', edgecolor='#493131', linewidth=0.5, color='#6cb3da', hatch = '.', zorder=5)  # Red\n",
    "# plt.bar(positions[:, 5], data['ZERO-DRY'],width=bar_width, label='ours', edgecolor='#493131', linewidth=0.5, color='#3b5da3', zorder=5)  # Yellow\n",
    "plt.bar(positions[:, 0], data['1bit-comp'], width=bar_width, label='2bits-weights', edgecolor='black', linewidth=0.5, color='darkseagreen',  zorder=5)  # Red\n",
    "plt.bar(positions[:, 1], data['2bits-comp'], width=bar_width, label='2bits-neurons', edgecolor='black', linewidth=0.5, color='cadetblue', zorder=5)  # Blue\n",
    "plt.bar(positions[:, 2], data['2bits-mem'], width=bar_width, label='1bit-neurons', edgecolor='black', linewidth=0.5, color='steelblue', zorder=5)\n",
    "#plt.bar(positions[:, 2], data['GSM8K'], width=bar_width, label='global cli', edgecolor='black', linewidth=0.5, color='#f5f8fa',  zorder=5)  # Red\n",
    "# 'whitesmoke', 'darkorange', 'lightsalmon', 'peachpuff', '#6cb3da', '#3b5da3'\n",
    "# labels = ['squad_v2', 'xtreme', 'gsm8k']\n",
    "# positions = [2, 5, 8] \n",
    "# plt.xticks(positions, labels)\n",
    "group_centers = positions.mean(axis=1)\n",
    "plt.subplots_adjust(left=0.05, right=0.9)\n",
    "# plt.legend(data.columns[1:], loc='upper right', fontsize='small', ncol=2)\n",
    "# plt.xlabel('Models')\n",
    "plt.ylabel('Accuracy')\n",
    "plt.yticks([0.8, 0.9, 1])\n",
    "plt.ylim(0.8, 1.1)\n",
    "plt.text(group_centers[1]-0.2, 0.65, 'Qwen2.5-7B', ha='center')  \n",
    "plt.text(group_centers[3]-0.2, 0.65, 'Falson3-7B', ha='center')\n",
    "labels = data.Models.to_list()\n",
    "plt.xticks(group_centers, labels)\n",
    "# plt.xticks(range(len(data.Models)), data.Models, rotation=45, ha='center')\n",
    "# plt.legend(data.columns[1:], bbox_to_anchor=(1, 1), fontsize='small', ncol=1)\n",
    "plt.legend(data.columns[1:], loc='lower left', bbox_to_anchor=(0, 1.1, 1, 0.2), mode='expand', fontsize='small', ncol=3)\n",
    "shift = -0.25\n",
    "target_idx1 = group_centers[2]\n",
    "plt.gca().margins(x=0.05)\n",
    "plt.axvline(x=target_idx1 + shift, color='gray', linestyle='--', ymin=-0.6, ymax=1, clip_on=False)\n",
    "plt.grid(True,axis='y')\n",
    "plt.savefig('figs/cot.pdf',dpi=100,bbox_inches = 'tight')\n",
    "\n",
    "plt.show()"
   ]
  },
  {
   "cell_type": "markdown",
   "id": "3d8b50e0",
   "metadata": {},
   "source": [
    "## datatype"
   ]
  },
  {
   "cell_type": "code",
   "execution_count": null,
   "id": "bbf7dfcf",
   "metadata": {},
   "outputs": [
    {
     "data": {
      "image/png": "[encoded data removed]",
      "text/plain": [
       "<Figure size 216x72 with 1 Axes>"
      ]
     },
     "metadata": {
      "needs_background": "light"
     },
     "output_type": "display_data"
    }
   ],
   "source": [
    "#figure17\n",
    "data = pd.read_excel('data/datatype.xlsx')\n",
    "\n",
    "plt.rcParams.update({'font.size': 7})\n",
    "plt.figure(figsize=(3,1))\n",
    "\n",
    "data.columns=['model', 'BF16', 'FP16', 'FP32']\n",
    "\n",
    "bar_width = 0.15\n",
    "num_bars = 3  \n",
    "group_width = bar_width * num_bars  \n",
    "group_centers = np.arange(len(data))\n",
    "\n",
    "# Calculate position of each bar to center them\n",
    "r1 = group_centers - group_width/2 + bar_width/2  # First bar   \n",
    "r2 = [x + bar_width for x in r1]\n",
    "r3 = [x + bar_width for x in r2]\n",
    "\n",
    "\n",
    "plt.bar(r1, data['BF16'], width=bar_width, edgecolor='black', linewidth=1, color='sienna', zorder=5)  # Yellow\n",
    "plt.bar(r2, data['FP16'], width=bar_width, edgecolor='black', linewidth=1, color='lightsalmon', zorder=5)  # Yellow\n",
    "plt.bar(r3, data['FP32'], width=bar_width, edgecolor='black', linewidth=1, color='peru', zorder=5)  # Yellow\n",
    "\n",
    "plt.xlabel('Datasets', labelpad=3)\n",
    "plt.xticks(range(len(data)), data.model, ha='center')\n",
    "plt.ylabel('Performace')\n",
    "plt.yticks([0.8, 0.9, 1])\n",
    "plt.ylim(0.8, 1.1)\n",
    "\n",
    "\n",
    "plt.legend(data.columns[1:], loc='lower left', bbox_to_anchor=(0, 0.72, 0.8, 0.2), mode='expand', fontsize='small', ncol=3)\n",
    "plt.gca().margins(x=0.1)\n",
    "\n",
    "plt.grid(True,axis='y')\n",
    "plt.savefig('figs/datatype.pdf',dpi=100,bbox_inches = 'tight')\n",
    "\n",
    "plt.show()"
   ]
  }
 ],
 "metadata": {
  "kernelspec": {
   "display_name": "Python 3 (ipykernel)",
   "language": "python",
   "name": "python3"
  },
  "language_info": {
   "codemirror_mode": {
    "name": "ipython",
    "version": 3
   },
   "file_extension": ".py",
   "mimetype": "text/x-python",
   "name": "python",
   "nbconvert_exporter": "python",
   "pygments_lexer": "ipython3",
   "version": "3.9.9"
  }
 },
 "nbformat": 4,
 "nbformat_minor": 5
}
